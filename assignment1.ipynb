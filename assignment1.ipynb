{
 "cells": [
  {
   "cell_type": "code",
   "execution_count": 1,
   "id": "4e9bb06e-888b-4f40-bb2b-5fc5c9bfda1d",
   "metadata": {},
   "outputs": [
    {
     "name": "stdout",
     "output_type": "stream",
     "text": [
      "Random Numbers: [26, 85, 41, 72, 85, 45, 47, 83, 4, 87]\n",
      "Even Numbers: [26, 72, 4]\n"
     ]
    }
   ],
   "source": [
    "\n",
    "random_numbers = [random.randint(1, 100) for _ in range(10)]\n",
    "print(\"Random Numbers:\", random_numbers)\n",
    "even_numbers = [num for num in random_numbers if num % 2 == 0]\n",
    "print(\"Even Numbers:\", even_numbers)\n"
   ]
  },
  {
   "cell_type": "code",
   "execution_count": 2,
   "id": "3d1fcb7e-6afc-4a0c-ae4b-bd206f6dcbb7",
   "metadata": {},
   "outputs": [
    {
     "name": "stdout",
     "output_type": "stream",
     "text": [
      "Reversed string: !nohtyP si siht ,dlrow olleH\n",
      "Reversed words: Python! is this world, Hello\n"
     ]
    }
   ],
   "source": [
    "# Create a string\n",
    "original_string = \"Hello world, this is Python!\"\n",
    "\n",
    "# Print the string in reverse order\n",
    "reversed_string = original_string[::-1]\n",
    "print(\"Reversed string:\", reversed_string)\n",
    "\n",
    "# Reverse the words in the string\n",
    "words = original_string.split()\n",
    "reversed_words = ' '.join(reversed(words))\n",
    "print(\"Reversed words:\", reversed_words)\n"
   ]
  },
  {
   "cell_type": "code",
   "execution_count": null,
   "id": "9419a93a-c2d2-4f30-b424-b7cbebe99310",
   "metadata": {},
   "outputs": [],
   "source": []
  }
 ],
 "metadata": {
  "kernelspec": {
   "display_name": "Python 3 (ipykernel)",
   "language": "python",
   "name": "python3"
  },
  "language_info": {
   "codemirror_mode": {
    "name": "ipython",
    "version": 3
   },
   "file_extension": ".py",
   "mimetype": "text/x-python",
   "name": "python",
   "nbconvert_exporter": "python",
   "pygments_lexer": "ipython3",
   "version": "3.12.7"
  }
 },
 "nbformat": 4,
 "nbformat_minor": 5
}
