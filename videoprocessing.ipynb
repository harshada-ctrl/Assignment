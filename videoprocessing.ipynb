{
 "cells": [
  {
   "cell_type": "code",
   "execution_count": 1,
   "id": "6588b7b8-5231-4a86-a560-1aa71df8fbb4",
   "metadata": {},
   "outputs": [],
   "source": [
    "import cv2"
   ]
  },
  {
   "cell_type": "code",
   "execution_count": 3,
   "id": "50d115fa-9073-45d3-9760-f51f41968d31",
   "metadata": {},
   "outputs": [],
   "source": [
    "# Initialize the webcam (0 is usually the default camera)\n",
    "cap = cv2.VideoCapture(0)"
   ]
  },
  {
   "cell_type": "code",
   "execution_count": 5,
   "id": "9bda78f1-d695-478c-aeb6-7f1ce81546b6",
   "metadata": {},
   "outputs": [],
   "source": [
    "# Check if the webcam is opened correctly\n",
    "if not cap.isOpened():\n",
    "    print(\"Error: Could not open webcam.\")\n",
    "    exit()"
   ]
  },
  {
   "cell_type": "code",
   "execution_count": 7,
   "id": "bb899d81-1331-4b20-9fbb-9dab1f926ec3",
   "metadata": {},
   "outputs": [],
   "source": [
    "# Capture a single frame\n",
    "ret, frame = cap.read()"
   ]
  },
  {
   "cell_type": "code",
   "execution_count": null,
   "id": "fcbb3c94-17af-43e7-83cd-2144669b3447",
   "metadata": {},
   "outputs": [],
   "source": [
    "# If frame is captured successfully\n",
    "if ret:\n",
    "    # Display the frame in a window\n",
    "    cv2.imshow('Captured Frame', frame)\n",
    "    \n",
    "    # Wait for a key press to close the window\n",
    "    cv2.waitKey(0)\n",
    "\n",
    "# Release the webcam and close the window\n",
    "cap.release()\n",
    "cv2.destroyAllWindows()"
   ]
  },
  {
   "cell_type": "code",
   "execution_count": null,
   "id": "f94373c0-b6c0-47bd-a3ba-23d95581bc94",
   "metadata": {},
   "outputs": [],
   "source": [
    "mport cv2\n",
    "\n",
    "# Initialize the webcam (0 is usually the default camera)\n",
    "cap = cv2.VideoCapture(0)\n",
    "\n",
    "# Check if the webcam is opened correctly\n",
    "if not cap.isOpened():\n",
    "    print(\"Error: Could not open webcam.\")\n",
    "    exit()\n",
    "\n",
    "# Loop to continuously capture frames\n",
    "while True:\n",
    "    # Capture each frame\n",
    "    ret, frame = cap.read()\n",
    "\n",
    "    # If the frame is captured successfully\n",
    "    if ret:\n",
    "        # Display the frame in a window\n",
    "        cv2.imshow('Webcam Feed', frame)\n",
    "\n",
    "        # Wait for 1 ms and check if 'q' is pressed to quit\n",
    "        if cv2.waitKey(1) & 0xFF == ord('q'):\n",
    "            break\n",
    "    else:\n",
    "        print(\"Error: Failed to capture frame.\")\n",
    "        break\n",
    "\n",
    "# Release the webcam and close all OpenCV windows\n",
    "cap.release()\n",
    "cv2.destroyAllWindows()"
   ]
  },
  {
   "cell_type": "code",
   "execution_count": null,
   "id": "77165a50-14e4-407b-9f6b-ffa8fa0aa996",
   "metadata": {},
   "outputs": [],
   "source": [
    "cap.release()\n",
    "cv2.destroyAllWindows()"
   ]
  },
  {
   "cell_type": "code",
   "execution_count": null,
   "id": "62f69fa6-1139-4acb-b50c-0c596746d38a",
   "metadata": {},
   "outputs": [],
   "source": []
  }
 ],
 "metadata": {
  "kernelspec": {
   "display_name": "Python [conda env:base] *",
   "language": "python",
   "name": "conda-base-py"
  },
  "language_info": {
   "codemirror_mode": {
    "name": "ipython",
    "version": 3
   },
   "file_extension": ".py",
   "mimetype": "text/x-python",
   "name": "python",
   "nbconvert_exporter": "python",
   "pygments_lexer": "ipython3",
   "version": "3.12.7"
  }
 },
 "nbformat": 4,
 "nbformat_minor": 5
}
